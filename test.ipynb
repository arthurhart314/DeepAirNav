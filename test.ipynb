{
 "cells": [
  {
   "cell_type": "code",
   "execution_count": 1,
   "metadata": {},
   "outputs": [],
   "source": [
    "import cv2\n",
    "import matplotlib.pyplot as plt\n",
    "import torch\n",
    "\n",
    "import Inference\n",
    "import Filter\n",
    "import rrrc_cpp"
   ]
  },
  {
   "cell_type": "code",
   "execution_count": 2,
   "metadata": {},
   "outputs": [],
   "source": [
    "img = cv2.imread(\"/home/artl2sch/Desktop/Robotic_Perception/C++/FastCropRotate/0-0.png\")\n",
    "img = cv2.cvtColor(img, cv2.COLOR_BGR2GRAY)\n",
    "img = cv2.resize(img, [2000, 2000])"
   ]
  },
  {
   "cell_type": "code",
   "execution_count": 3,
   "metadata": {},
   "outputs": [],
   "source": [
    "out_n = 1000\n",
    "\n",
    "with torch.no_grad():    \n",
    "\n",
    "    input_image  =  torch.tensor(img, dtype = torch.uint8)[None, :, :].contiguous().cuda()\n",
    "    output_images = torch.zeros([out_n, 1, 128, 128], dtype = torch.float32).contiguous().cuda()\n",
    "\n",
    "    M = torch.tensor([1.0, 0.0, 0.0, 1.0]*out_n, dtype = torch.float32)\n",
    "    M_rand = torch.rand_like(M)\n",
    "    M += M_rand * 0.5\n",
    "\n",
    "    M *= input_image.shape[-1]/output_images.shape[-1]\n",
    "    T = torch.tensor([0.0, 0.0]*out_n, dtype = torch.float32)"
   ]
  },
  {
   "cell_type": "code",
   "execution_count": 4,
   "metadata": {},
   "outputs": [
    {
     "name": "stdout",
     "output_type": "stream",
     "text": [
      "[06/30/2023-04:23:53] [TRT] [W] CUDA lazy loading is not enabled. Enabling it can significantly reduce device memory usage and speed up TensorRT initialization. See \"Lazy Loading\" section of CUDA documentation https://docs.nvidia.com/cuda/cuda-c-programming-guide/index.html#lazy-loading\n",
      "[06/30/2023-04:24:18] [TRT] [W] TensorRT encountered issues when converting weights between types and that could affect accuracy.\n",
      "[06/30/2023-04:24:18] [TRT] [W] If this is not the desired behavior, please modify the weights or retrain with regularization to adjust the magnitude of the weights.\n",
      "[06/30/2023-04:24:18] [TRT] [W] Check verbose logs for the list of affected weights.\n",
      "[06/30/2023-04:24:18] [TRT] [W] - 24 weights are affected by this issue: Detected subnormal FP16 values.\n",
      "[06/30/2023-04:24:18] [TRT] [W] - 10 weights are affected by this issue: Detected values less than smallest positive FP16 subnormal value and converted them to the FP16 minimum subnormalized value.\n",
      "[06/30/2023-04:24:18] [TRT] [W] CUDA lazy loading is not enabled. Enabling it can significantly reduce device memory usage and speed up TensorRT initialization. See \"Lazy Loading\" section of CUDA documentation https://docs.nvidia.com/cuda/cuda-c-programming-guide/index.html#lazy-loading\n"
     ]
    }
   ],
   "source": [
    "ONNX_FILE_PATH = './Weights/model.onnx'\n",
    "with torch.no_grad():    \n",
    "    trt_model = Inference.TRTModel(out_n, ONNX_FILE_PATH)\n",
    "    trt_model.build_engine()\n",
    "    trt_model.reserve_cuda_memory()"
   ]
  },
  {
   "cell_type": "code",
   "execution_count": 5,
   "metadata": {},
   "outputs": [],
   "source": [
    "with torch.no_grad():\n",
    "    pf = Filter.ParticleFilter(out_n)\n",
    "    displacement_val = torch.tensor([0.1, 0.0, 0.0, 0.0], dtype = torch.float32).cuda()\n",
    "    displacement_var = torch.tensor([0.0, 0.0, 0.0, 0.1], dtype = torch.float32).cuda()"
   ]
  },
  {
   "cell_type": "code",
   "execution_count": 6,
   "metadata": {},
   "outputs": [
    {
     "name": "stdout",
     "output_type": "stream",
     "text": [
      "loop time :  0.01550049066543579\n"
     ]
    }
   ],
   "source": [
    "n_steps = 100\n",
    "\n",
    "import time\n",
    "\n",
    "loop_time = -time.time()\n",
    "\n",
    "for i in range(n_steps):\n",
    "    with torch.no_grad():    \n",
    "\n",
    "        rrrc_cpp.rrrc(input_image, output_images, M, T)\n",
    "\n",
    "        output_images_3 = output_images.repeat(1, 3, 1, 1)\n",
    "  \n",
    "        embeddings = trt_model.run(output_images_3)\n",
    "\n",
    "        pf.resample(embeddings)\n",
    "\n",
    "        pf.move(displacement_val, displacement_var)\n",
    "\n",
    "\n",
    "loop_time += time.time()\n",
    "loop_time /= n_steps\n",
    "\n",
    "print (\"loop time : \", loop_time)"
   ]
  },
  {
   "cell_type": "code",
   "execution_count": 52,
   "metadata": {},
   "outputs": [
    {
     "data": {
      "image/png": "[encoded data removed]",
      "text/plain": [
       "<Figure size 640x480 with 1 Axes>"
      ]
     },
     "metadata": {},
     "output_type": "display_data"
    },
    {
     "name": "stdout",
     "output_type": "stream",
     "text": [
      "init time :  0.0013928413391113281\n",
      "move time :  0.0012871766090393067\n",
      "resample time :  0.0007695484161376953\n"
     ]
    }
   ],
   "source": [
    "pf.draw_particles()\n",
    "pf.print_times()"
   ]
  },
  {
   "cell_type": "code",
   "execution_count": 7,
   "metadata": {},
   "outputs": [
    {
     "data": {
      "text/plain": [
       "torch.Size([500, 128])"
      ]
     },
     "execution_count": 7,
     "metadata": {},
     "output_type": "execute_result"
    }
   ],
   "source": [
    "embeddings.shape"
   ]
  },
  {
   "cell_type": "code",
   "execution_count": null,
   "metadata": {},
   "outputs": [],
   "source": []
  }
 ],
 "metadata": {
  "kernelspec": {
   "display_name": "Python 3",
   "language": "python",
   "name": "python3"
  },
  "language_info": {
   "codemirror_mode": {
    "name": "ipython",
    "version": 3
   },
   "file_extension": ".py",
   "mimetype": "text/x-python",
   "name": "python",
   "nbconvert_exporter": "python",
   "pygments_lexer": "ipython3",
   "version": "3.10.6"
  },
  "orig_nbformat": 4
 },
 "nbformat": 4,
 "nbformat_minor": 2
}
